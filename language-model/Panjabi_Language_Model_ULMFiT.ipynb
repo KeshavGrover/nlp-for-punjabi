{
 "cells": [
  {
   "cell_type": "code",
   "execution_count": 21,
   "metadata": {},
   "outputs": [],
   "source": [
    "%reload_ext autoreload\n",
    "%autoreload 2\n",
    "%matplotlib inline"
   ]
  },
  {
   "cell_type": "code",
   "execution_count": 22,
   "metadata": {},
   "outputs": [],
   "source": [
    "from fastai.text import *\n",
    "import numpy as np\n",
    "from sklearn.model_selection import train_test_split\n",
    "import pickle\n",
    "import sentencepiece as spm\n",
    "import re\n",
    "import pdb"
   ]
  },
  {
   "cell_type": "code",
   "execution_count": 23,
   "metadata": {},
   "outputs": [
    {
     "data": {
      "text/plain": [
       "('1.0.57', '1.1.0')"
      ]
     },
     "execution_count": 23,
     "metadata": {},
     "output_type": "execute_result"
    }
   ],
   "source": [
    "import fastai, torch\n",
    "fastai.__version__ , torch.__version__"
   ]
  },
  {
   "cell_type": "code",
   "execution_count": 24,
   "metadata": {},
   "outputs": [],
   "source": [
    "torch.cuda.set_device(0)"
   ]
  },
  {
   "cell_type": "code",
   "execution_count": 25,
   "metadata": {},
   "outputs": [
    {
     "name": "stdout",
     "output_type": "stream",
     "text": [
      "/home/gaurav/PycharmProjects/nlp-for-panjabi/language-model\r\n"
     ]
    }
   ],
   "source": [
    "!pwd"
   ]
  },
  {
   "cell_type": "code",
   "execution_count": 26,
   "metadata": {},
   "outputs": [],
   "source": [
    "path = Path('/home/gaurav/PycharmProjects/nlp-for-panjabi/language-model')"
   ]
  },
  {
   "cell_type": "code",
   "execution_count": 27,
   "metadata": {},
   "outputs": [],
   "source": [
    "from inltk.tokenizer import PanjabiTokenizer"
   ]
  },
  {
   "cell_type": "code",
   "execution_count": 28,
   "metadata": {},
   "outputs": [
    {
     "data": {
      "text/plain": [
       "inltk.tokenizer.PanjabiTokenizer"
      ]
     },
     "execution_count": 28,
     "metadata": {},
     "output_type": "execute_result"
    }
   ],
   "source": [
    "PanjabiTokenizer"
   ]
  },
  {
   "cell_type": "code",
   "execution_count": 29,
   "metadata": {},
   "outputs": [],
   "source": [
    "# class PanjabiTokenizer(BaseTokenizer):\n",
    "#     def __init__(self, lang:str):\n",
    "#         self.lang = lang\n",
    "#         self.sp = spm.SentencePieceProcessor()\n",
    "#         self.sp.Load(str(path/\"panjabi_lm.model\"))\n",
    "        \n",
    "#     def tokenizer(self, t:str) -> List[str]:\n",
    "#         return self.sp.EncodeAsPieces(t)"
   ]
  },
  {
   "cell_type": "code",
   "execution_count": 30,
   "metadata": {},
   "outputs": [],
   "source": [
    "sp = spm.SentencePieceProcessor()\n",
    "sp.Load(str(path/\"../tokenizer/panjabi_lm.model\"))\n",
    "itos = [sp.IdToPiece(int(i)) for i in range(30000)]"
   ]
  },
  {
   "cell_type": "code",
   "execution_count": 31,
   "metadata": {
    "scrolled": true
   },
   "outputs": [
    {
     "data": {
      "text/plain": [
       "['<unk>',\n",
       " '<s>',\n",
       " '</s>',\n",
       " '।',\n",
       " ',',\n",
       " '▁ਹੈ',\n",
       " '▁ਦੇ',\n",
       " '▁',\n",
       " '▁ਵਿੱਚ',\n",
       " '▁ਦੀ',\n",
       " '▁ਅਤੇ',\n",
       " '▁ਦਾ',\n",
       " '▁ਨੂੰ',\n",
       " '▁ਇੱਕ',\n",
       " '▁ਹਨ',\n",
       " '-',\n",
       " '▁ਤੋਂ',\n",
       " '.',\n",
       " '▁ਸੀ',\n",
       " '▁ਤੇ']"
      ]
     },
     "execution_count": 31,
     "metadata": {},
     "output_type": "execute_result"
    }
   ],
   "source": [
    "itos[:20]"
   ]
  },
  {
   "cell_type": "code",
   "execution_count": 32,
   "metadata": {},
   "outputs": [],
   "source": [
    "# 30,000 is the vocab size that we chose in sentencepiece\n",
    "panjabi_vocab = Vocab(itos)"
   ]
  },
  {
   "cell_type": "code",
   "execution_count": 33,
   "metadata": {},
   "outputs": [],
   "source": [
    "panjabi_tok = PanjabiTokenizer('pa')"
   ]
  },
  {
   "cell_type": "code",
   "execution_count": 34,
   "metadata": {},
   "outputs": [],
   "source": [
    "tokenizer = Tokenizer(tok_func=PanjabiTokenizer, lang='pa')"
   ]
  },
  {
   "cell_type": "code",
   "execution_count": 35,
   "metadata": {},
   "outputs": [
    {
     "data": {
      "text/plain": [
       "['xxunk',\n",
       " 'xxpad',\n",
       " 'xxbos',\n",
       " 'xxeos',\n",
       " 'xxfld',\n",
       " 'xxmaj',\n",
       " 'xxup',\n",
       " 'xxrep',\n",
       " 'xxwrep']"
      ]
     },
     "execution_count": 35,
     "metadata": {},
     "output_type": "execute_result"
    }
   ],
   "source": [
    "tokenizer.special_cases"
   ]
  },
  {
   "cell_type": "code",
   "execution_count": 36,
   "metadata": {
    "scrolled": true
   },
   "outputs": [],
   "source": [
    "data_lm = TextLMDataBunch.from_folder(path=path/'ulmfit', tokenizer=tokenizer, vocab=panjabi_vocab)"
   ]
  },
  {
   "cell_type": "code",
   "execution_count": 37,
   "metadata": {},
   "outputs": [],
   "source": [
    "data_lm.save()"
   ]
  },
  {
   "cell_type": "code",
   "execution_count": 38,
   "metadata": {},
   "outputs": [
    {
     "data": {
      "text/html": [
       "<table border=\"1\" class=\"dataframe\">\n",
       "  <thead>\n",
       "    <tr style=\"text-align: right;\">\n",
       "      <th>idx</th>\n",
       "      <th>text</th>\n",
       "    </tr>\n",
       "  </thead>\n",
       "  <tbody>\n",
       "    <tr>\n",
       "      <td>0</td>\n",
       "      <td>▁ਇਹ ▁ ਮਾਦਾਗਾਸਕਰ ▁ਦੇ ▁ਪੱਛਮ ▁ਵੱਲ ▁ਪੈਂਦਾ ▁ਹੈ ▁ਅਤੇ ▁ਜੋ ▁ਸਭ ▁ਤੋਂ ▁ਨੇੜਲ ੇ ▁ਟਾਪੂ , ▁ਮਾਰੀਸ਼ਸ ▁ਤੋਂ ▁200 ▁ਕਿ . ਮੀ . ▁ਦੱਖਣ - ਪੱਛਮ ▁ਵੱਲ ▁ਹੈ । ▁ਪ੍ਰਸ਼ਾਸਕੀ ▁ਤੌਰ ▁ਉੱਤੇ ▁ਇਹ ▁ਫ਼ਰਾਂਸ ▁ਦਾ ▁ਇੱਕ ▁ਵਿਦੇਸ਼ੀ ▁ਵਿਭਾਗ ▁ਹੈ । ▁ਹੋਰ ▁ਵਿਦੇਸ਼ੀ ▁ਵਿਭਾਗਾਂ ▁ਵਾਂਗ ▁ਇਹ ▁ਫ਼ਰਾਂਸ ▁ਦੇ ▁27 ▁ਖੇਤਰਾਂ ▁ਵਿੱਚੋਂ ▁ਇੱਕ ▁ਹੈ ▁ਅਤੇ ▁ਗਣਰਾਜ ▁ਦਾ ▁ਅਨਿੱਖੜਵ ਾਂ ▁ਹਿੱਸਾ ▁ਹੈ ▁ਜਿਸਦਾ ▁ਦਰਜਾ ▁ਉਹੀ ▁ਹੈ ▁ਜੋ ▁ਮਹਾਂਦੀਪ ੀ ▁ਯੂਰਪ ▁ਵਿੱਚ ▁ਸਥਿੱਤ ▁ਖੇਤਰਾਂ</td>\n",
       "    </tr>\n",
       "    <tr>\n",
       "      <td>1</td>\n",
       "      <td>▁ਤਲਵੰਡੀ ▁ਸਾਬੋ , ਦੇ ▁ਨੇੜੇ ▁ਪਿੰਡ ▁ਵਾਂਗਰ ▁ਆ ▁ਵੱਸੇ ▁ਸਨ । ▁x x bo s ▁ਸਾਰਾ ▁ਜੋਜ਼ਫ ਼ ▁ਜਾਂ ▁ਸਾਰਾ ▁ਜੋਸਫ਼ ▁ਇੱਕ ▁ਮਲਿਆਲਮ ▁ਨਾਵਲਕਾਰ ▁ਅਤੇ ▁ਨਿੱਕੀ ▁ਕਹਾਣੀ ▁ਲੇਖਕ ▁ਹੈ । ▁ਉਸ ▁ਨੇ ▁ਆਪਣੇ ▁ਨਾਵਲ ▁ਪਰਮੇਸ਼ੁਰ ▁ਪਿਤਾ ▁ਦੀਆਂ ▁ਧੀਆਂ ▁ਲਈ ▁ਸਾਹਿਤ ▁ਅਕਾਦਮੀ ▁ਅਵਾਰਡ ▁ਜਿੱਤਿਆ । ▁ਉਸੇ ▁ਹੀ ▁ਨਾਵਲ ▁ਲਈ ▁ਉਸਨੇ ▁ਵਾਇ ਲਾ ਰ ▁ਅਵਾਰਡ ▁ਵੀ ▁ਪ੍ਰਾਪਤ ▁ਕੀਤਾ । ▁ਸਾਰਾਹ ▁ਕੇਰਲਾ ▁ਵਿੱਚ ▁ਨਾਰੀਵਾਦੀ ▁ਲਹਿਰ ▁ਦੀ ▁ਮੋਹਰੀ ▁ਹੈ ▁ਅਤੇ ▁ਸੋਚ ਵਾਨ ▁ਮਹਿਲਾਵਾਂ ▁ਦੇ</td>\n",
       "    </tr>\n",
       "    <tr>\n",
       "      <td>2</td>\n",
       "      <td>▁ਸੰਸਥਾ ਈ ▁ਦੇ ▁ਅਰਥਾਂ ▁ਵਿੱਚ ▁ਪ੍ਰਭਾਸ਼ਿਤ ▁ਕੀਤਾ ▁ਜਾਂਦਾ ▁ਹੈ ▁ਪ੍ਰ ੰਤੂ ▁ਮਾਰਕਸ ੀ ▁ਚਿੰਤਨ ▁ਦੇ ▁ਦੋਰਾਨ ▁ਇਹ ▁ਸੰਕਲਪ ▁ਵਿਚਾਰਧਾਰਕ ▁ਅਰਥਾਂ ▁ਵਿੱਚ ▁ਵਰਤਿਆ ▁ਗਿਆ ▁ਹੈ । ▁ਗ੍ਰਾਮ ਸ਼ੀ ▁ਦੇ ▁ਅਨੁਸਾਰ ▁ਇਹ ▁ਸੰਕਲਪ ▁ਕੇਵਲ ▁ਸਮਝਣ ▁ਵਿੱਚ ▁ਹੀ ▁ਨਹੀਂ ▁ਸਗੋਂ ▁ਸੱਤਾ ▁ਪਰਿਵਰਤਨ ▁ਵਿੱਚ ▁ਵਧੇਰੇ ▁ਮਦਦਗਾਰ ▁ਹੋ ▁ਸਕਦਾ ▁ਹੈ ▁। ▁ਸੱਤਾ ▁ਸ਼ੈਲੀ ▁ਜਮਾਤ ▁ਵਿੱਚ ▁ਹੈ ਜ ਮਨੀ ▁ਦੇ ▁ਨਾਲ ▁ਸੱਤਾ ▁ਨੂੰ ▁ਚਿਰਸਥਾਈ ▁ਬਣਾਉਦੀ ▁ਹੈ । ਹੈ ਜ ਮਨੀ ▁ਪੂੰਜੀਵਾਦ ▁ਦਾ ▁ਸੁਰਖਿਆ ▁ਕਵਚ ▁ਹੈ ।</td>\n",
       "    </tr>\n",
       "    <tr>\n",
       "      <td>3</td>\n",
       "      <td>▁130 ▁ਯਾਤਰੀ ▁ਸੈਰਗਾਹ ਾਂ ▁ਦਾ ▁ਛੋਟਾ ▁ਨਮੂਨਾ ▁ਤਿਆਰ ▁ਕੀਤਾ ▁ਗਿਆ ▁ਹੈ । ▁ਇਹ ▁ਥੀਮ ▁48 ▁ਹੈਕਟੇਅਰ ▁ਵਿੱਚ ▁ਬਣਿਆ ▁ਹੋਇਆ ▁ਹੈ । ▁ਇੱਥੇ ▁108 ▁ਮੀਟਰ ▁ਉੱਚਾ ▁ਆਈ ਫ਼ਲ ▁ਟਾਵਰ , ▁ਪਿਰਾਮਿਡ ▁ਤੇ ▁ਤਾਜ ▁ਮਹਿਲ ▁ਵੀ ▁ਬਣਾਇਆ ▁ਗਿਆ ▁ਹੈ । ▁ਸੰਸਾਰ ▁ਦੀ ▁ਖਿੜਕੀ ▁ਸ਼ੈਨ ਜ਼ ੈਨ ▁ਮੈਟਰੋ ▁ਦੀ ▁ਲਾਈਨ ▁1 ▁ਤੇ ▁ਲਾਈਨ ▁2 ▁ਕੋਲ ▁ਸਥਿੱਤ ▁ਹੈ । ▁ਹੈ ਪੀ - ਲਾਈਨ ▁ਨਾਂਅ ▁ਦੀ ▁ਛੋਟੀ ▁ਰੇਲ ▁ਸੰਸਾਰ ▁ਦੀ ▁ਖਿੜਕੀ ▁ਦੇ ▁ਨੇੜੇ ▁ਰੁਕ ਦੀ</td>\n",
       "    </tr>\n",
       "    <tr>\n",
       "      <td>4</td>\n",
       "      <td>▁ਤੱਕ ▁ਵੈਦਿਕ ▁ਕਰਮ - ਕਾਂ ਡ ਾਂ ▁ਦਾ ▁ਅਸਰ ▁ਘੱਟ ▁ਹੋ ▁ਗਿਆ । ▁ਇਸਦੇ ▁ਫਲਸਰੂਪ ▁ਕਈ ▁ਧਾਰਮਿਕ ▁ਪੰਥਕ ਾਂ ▁ਅਤੇ ▁ਸੰਪਰਦਾ ਵਾਂ ▁ਦੀ ▁ਸਥਾਪਨਾ ▁ਹੋ ▁ਗਈ । ▁ੳੁਸ ▁ਸਮੇਂ ▁ਦੀਆਂ ▁ਲਗਭਗ ▁62 ▁ਸੰਪਰਦਾ ਵਾਂ ▁ਦੇ ▁ਬਾਰੇ ▁ਜਾਣਕਾਰੀ ▁ਮਿਲਦੀ ▁ਹੈ । ▁ਪਰ ▁ਇਨ੍ਹਾਂ ▁ਵਿਚੋਂ ▁ਦੋ ▁ਹੀ ▁ਲੰਬੇ ▁ਸਮੇਂ ▁ਤੱਕ ▁ਪ੍ਰਭਾਵਿਤ ▁ਕਰ ▁ਸਕੀਆਂ ▁- ▁ਬੁੱ । ਧ ▁ਅਤੇ ▁ਜੈਨ ▁ਜੈਨ ▁ਧਰਮ ▁ਦੇ ▁ਦੋ ▁ਤੀਰਥ ਕਰ ▁ਰਿਸ਼ਭ ਨਾਥ ▁ਅਤੇ ▁ਅਰ ਿਸ਼ਟ ਨੇ ਮੀ</td>\n",
       "    </tr>\n",
       "  </tbody>\n",
       "</table>"
      ],
      "text/plain": [
       "<IPython.core.display.HTML object>"
      ]
     },
     "metadata": {},
     "output_type": "display_data"
    }
   ],
   "source": [
    "data_lm.show_batch()"
   ]
  },
  {
   "cell_type": "code",
   "execution_count": 39,
   "metadata": {},
   "outputs": [
    {
     "data": {
      "text/plain": [
       "30000"
      ]
     },
     "execution_count": 39,
     "metadata": {},
     "output_type": "execute_result"
    }
   ],
   "source": [
    "len(data_lm.vocab.itos)"
   ]
  },
  {
   "cell_type": "code",
   "execution_count": 71,
   "metadata": {},
   "outputs": [],
   "source": [
    "learn = language_model_learner(data_lm, AWD_LSTM, pretrained=False)"
   ]
  },
  {
   "cell_type": "code",
   "execution_count": 41,
   "metadata": {},
   "outputs": [
    {
     "data": {
      "text/plain": [
       "[(64, 64), (64, 64), (64, 64)]"
      ]
     },
     "execution_count": 41,
     "metadata": {},
     "output_type": "execute_result"
    }
   ],
   "source": [
    "it = iter(data_lm.valid_dl)\n",
    "its = [next(it) for i in range(3)]\n",
    "[(len(x),len(y)) for x,y in its]"
   ]
  },
  {
   "cell_type": "code",
   "execution_count": 42,
   "metadata": {},
   "outputs": [
    {
     "data": {
      "text/plain": [
       "[tensor([[  351,  1326,  9410,  ...,  2881,    36,     3],\n",
       "         [    3,   716,    30,  ...,     6,  1624,    35],\n",
       "         [  181,   238,    15,  ..., 10452,    71,    16],\n",
       "         ...,\n",
       "         [ 9496,   758,   112,  ...,  1447,  2405,    73],\n",
       "         [    5,   125,    57,  ...,     4,   282,   140],\n",
       "         [   42,     5,     4,  ...,     4,    29,   984]], device='cuda:0'),\n",
       " tensor([[1326, 9410,  189,  ...,   36,    3,  114],\n",
       "         [ 716,   30, 1121,  ..., 1624,   35,  363],\n",
       "         [ 238,   15,  634,  ...,   71,   16,  392],\n",
       "         ...,\n",
       "         [ 758,  112, 5499,  ..., 2405,   73,   11],\n",
       "         [ 125,   57,  161,  ...,  282,  140,    9],\n",
       "         [   5,    4,  256,  ...,   29,  984,  724]], device='cuda:0')]"
      ]
     },
     "execution_count": 42,
     "metadata": {},
     "output_type": "execute_result"
    }
   ],
   "source": [
    "its[0]"
   ]
  },
  {
   "cell_type": "code",
   "execution_count": 43,
   "metadata": {},
   "outputs": [],
   "source": [
    "x = its[1][0][0].cpu().numpy()"
   ]
  },
  {
   "cell_type": "code",
   "execution_count": 44,
   "metadata": {},
   "outputs": [],
   "source": [
    "y = its[1][1][0].cpu().numpy()"
   ]
  },
  {
   "cell_type": "code",
   "execution_count": 45,
   "metadata": {},
   "outputs": [
    {
     "data": {
      "text/plain": [
       "'▁ਜਦੋਂ ▁ਕਿ ▁ਪੁਰਸ਼ ▁ਵਰਗ ▁ਦੇ ▁ਮੈਚ ▁ਪਹਿਲੀ ▁ਦਸੰਬਰ ▁ਤੋਂ ▁15 ▁ਦਸੰਬਰ ▁ਤੱਕ ▁ਖੇਡੇ ▁ਗਏ । ▁ਪਹਿਲਾ ▁ਵਿਸ਼ਵ ▁ਕੱਪ ▁ਮਹਿਲਾ ▁ਕਬੱਡੀ ▁ਮੁਕਾਬਲਾ ▁11 ▁ਨਵੰਬਰ ▁ਤੋਂ ▁20 ▁ਨਵੰਬਰ ▁2011 ▁ਤੱਕ ▁ਹੋਇਆ ▁ਅਤੇ ▁ਭਾਰਤ , ▁ਅਮਰੀਕਾ , ਇੰਗ ਲ ੈਡ , ਇ ਰਾਨ ▁ਦੀਆਂ ▁ਟੀਮਾਂ ▁ਨੇ ▁ਹਿੱਸਾ ▁ਲਿਆ । ▁ਇਸ ▁ਵਿਸ਼ਵ ▁ਕੱਪ ▁ਦਾ ▁ਉਦਘਾਟਨ ੀ ▁ਮੈਚ ▁ਸ਼੍ਰੀ ▁ਅੰਮ੍ਰਿਤਸਰ ▁ਵਿਖੇ ▁ਭਾਰਤ ▁ਵੱਲੋਂ ▁ਅਮਰੀਕਾ ▁ਨੂੰ ▁ਮਾਤ ▁ਦੇਣ ▁ਵਾਲਾ ▁ਸੀ । ▁ਫਾਈਨਲ ▁ਭਾਰਤੀ ▁ਟੀਮ ▁ਨੇ ▁ਪ੍ਰਿਯੰ'"
      ]
     },
     "execution_count": 45,
     "metadata": {},
     "output_type": "execute_result"
    }
   ],
   "source": [
    "panjabi_vocab.textify(x)"
   ]
  },
  {
   "cell_type": "code",
   "execution_count": 46,
   "metadata": {},
   "outputs": [
    {
     "data": {
      "text/plain": [
       "'▁ਕਿ ▁ਪੁਰਸ਼ ▁ਵਰਗ ▁ਦੇ ▁ਮੈਚ ▁ਪਹਿਲੀ ▁ਦਸੰਬਰ ▁ਤੋਂ ▁15 ▁ਦਸੰਬਰ ▁ਤੱਕ ▁ਖੇਡੇ ▁ਗਏ । ▁ਪਹਿਲਾ ▁ਵਿਸ਼ਵ ▁ਕੱਪ ▁ਮਹਿਲਾ ▁ਕਬੱਡੀ ▁ਮੁਕਾਬਲਾ ▁11 ▁ਨਵੰਬਰ ▁ਤੋਂ ▁20 ▁ਨਵੰਬਰ ▁2011 ▁ਤੱਕ ▁ਹੋਇਆ ▁ਅਤੇ ▁ਭਾਰਤ , ▁ਅਮਰੀਕਾ , ਇੰਗ ਲ ੈਡ , ਇ ਰਾਨ ▁ਦੀਆਂ ▁ਟੀਮਾਂ ▁ਨੇ ▁ਹਿੱਸਾ ▁ਲਿਆ । ▁ਇਸ ▁ਵਿਸ਼ਵ ▁ਕੱਪ ▁ਦਾ ▁ਉਦਘਾਟਨ ੀ ▁ਮੈਚ ▁ਸ਼੍ਰੀ ▁ਅੰਮ੍ਰਿਤਸਰ ▁ਵਿਖੇ ▁ਭਾਰਤ ▁ਵੱਲੋਂ ▁ਅਮਰੀਕਾ ▁ਨੂੰ ▁ਮਾਤ ▁ਦੇਣ ▁ਵਾਲਾ ▁ਸੀ । ▁ਫਾਈਨਲ ▁ਭਾਰਤੀ ▁ਟੀਮ ▁ਨੇ ▁ਪ੍ਰਿਯੰ ਕਾ'"
      ]
     },
     "execution_count": 46,
     "metadata": {},
     "output_type": "execute_result"
    }
   ],
   "source": [
    "panjabi_vocab.textify(y)"
   ]
  },
  {
   "cell_type": "code",
   "execution_count": 47,
   "metadata": {},
   "outputs": [
    {
     "data": {
      "text/plain": [
       "[1497]"
      ]
     },
     "execution_count": 47,
     "metadata": {},
     "output_type": "execute_result"
    }
   ],
   "source": [
    "panjabi_vocab.numericalize(['▁ਮੈਚ'])"
   ]
  },
  {
   "cell_type": "code",
   "execution_count": 48,
   "metadata": {},
   "outputs": [],
   "source": [
    "for x in range(30000):\n",
    "    if panjabi_vocab.textify([x]) == ' ':\n",
    "        print(x)"
   ]
  },
  {
   "cell_type": "code",
   "execution_count": 49,
   "metadata": {},
   "outputs": [
    {
     "data": {
      "text/html": [],
      "text/plain": [
       "<IPython.core.display.HTML object>"
      ]
     },
     "metadata": {},
     "output_type": "display_data"
    },
    {
     "name": "stdout",
     "output_type": "stream",
     "text": [
      "LR Finder is complete, type {learner_name}.recorder.plot() to see the graph.\n"
     ]
    }
   ],
   "source": [
    "learn.lr_find()"
   ]
  },
  {
   "cell_type": "code",
   "execution_count": 50,
   "metadata": {},
   "outputs": [
    {
     "data": {
      "image/png": "[encoded data removed]",
      "text/plain": [
       "<Figure size 432x288 with 1 Axes>"
      ]
     },
     "metadata": {
      "needs_background": "light"
     },
     "output_type": "display_data"
    }
   ],
   "source": [
    "learn.recorder.plot()"
   ]
  },
  {
   "cell_type": "code",
   "execution_count": 51,
   "metadata": {},
   "outputs": [
    {
     "data": {
      "text/html": [
       "<table border=\"1\" class=\"dataframe\">\n",
       "  <thead>\n",
       "    <tr style=\"text-align: left;\">\n",
       "      <th>epoch</th>\n",
       "      <th>train_loss</th>\n",
       "      <th>valid_loss</th>\n",
       "      <th>accuracy</th>\n",
       "      <th>time</th>\n",
       "    </tr>\n",
       "  </thead>\n",
       "  <tbody>\n",
       "    <tr>\n",
       "      <td>0</td>\n",
       "      <td>4.203168</td>\n",
       "      <td>4.173241</td>\n",
       "      <td>0.336765</td>\n",
       "      <td>07:17</td>\n",
       "    </tr>\n",
       "  </tbody>\n",
       "</table>"
      ],
      "text/plain": [
       "<IPython.core.display.HTML object>"
      ]
     },
     "metadata": {},
     "output_type": "display_data"
    }
   ],
   "source": [
    "learn.fit_one_cycle(1, 1e-2)"
   ]
  },
  {
   "cell_type": "code",
   "execution_count": 52,
   "metadata": {
    "scrolled": true
   },
   "outputs": [
    {
     "data": {
      "text/html": [
       "<table border=\"1\" class=\"dataframe\">\n",
       "  <thead>\n",
       "    <tr style=\"text-align: left;\">\n",
       "      <th>epoch</th>\n",
       "      <th>train_loss</th>\n",
       "      <th>valid_loss</th>\n",
       "      <th>accuracy</th>\n",
       "      <th>time</th>\n",
       "    </tr>\n",
       "  </thead>\n",
       "  <tbody>\n",
       "    <tr>\n",
       "      <td>0</td>\n",
       "      <td>4.471998</td>\n",
       "      <td>4.130526</td>\n",
       "      <td>0.342275</td>\n",
       "      <td>07:14</td>\n",
       "    </tr>\n",
       "    <tr>\n",
       "      <td>1</td>\n",
       "      <td>4.110007</td>\n",
       "      <td>4.064913</td>\n",
       "      <td>0.350988</td>\n",
       "      <td>07:15</td>\n",
       "    </tr>\n",
       "    <tr>\n",
       "      <td>2</td>\n",
       "      <td>4.273418</td>\n",
       "      <td>3.968239</td>\n",
       "      <td>0.364381</td>\n",
       "      <td>07:17</td>\n",
       "    </tr>\n",
       "    <tr>\n",
       "      <td>3</td>\n",
       "      <td>4.034815</td>\n",
       "      <td>3.864774</td>\n",
       "      <td>0.378087</td>\n",
       "      <td>07:18</td>\n",
       "    </tr>\n",
       "    <tr>\n",
       "      <td>4</td>\n",
       "      <td>4.158146</td>\n",
       "      <td>3.756247</td>\n",
       "      <td>0.393066</td>\n",
       "      <td>07:17</td>\n",
       "    </tr>\n",
       "    <tr>\n",
       "      <td>5</td>\n",
       "      <td>3.822302</td>\n",
       "      <td>3.654641</td>\n",
       "      <td>0.407450</td>\n",
       "      <td>07:17</td>\n",
       "    </tr>\n",
       "    <tr>\n",
       "      <td>6</td>\n",
       "      <td>3.572192</td>\n",
       "      <td>3.576002</td>\n",
       "      <td>0.418782</td>\n",
       "      <td>07:18</td>\n",
       "    </tr>\n",
       "    <tr>\n",
       "      <td>7</td>\n",
       "      <td>3.895708</td>\n",
       "      <td>3.505578</td>\n",
       "      <td>0.428599</td>\n",
       "      <td>07:20</td>\n",
       "    </tr>\n",
       "    <tr>\n",
       "      <td>8</td>\n",
       "      <td>3.769912</td>\n",
       "      <td>3.447200</td>\n",
       "      <td>0.437128</td>\n",
       "      <td>07:20</td>\n",
       "    </tr>\n",
       "    <tr>\n",
       "      <td>9</td>\n",
       "      <td>3.442327</td>\n",
       "      <td>3.399135</td>\n",
       "      <td>0.444299</td>\n",
       "      <td>07:22</td>\n",
       "    </tr>\n",
       "    <tr>\n",
       "      <td>10</td>\n",
       "      <td>3.508990</td>\n",
       "      <td>3.345160</td>\n",
       "      <td>0.452149</td>\n",
       "      <td>07:22</td>\n",
       "    </tr>\n",
       "    <tr>\n",
       "      <td>11</td>\n",
       "      <td>3.358179</td>\n",
       "      <td>3.309130</td>\n",
       "      <td>0.457245</td>\n",
       "      <td>07:22</td>\n",
       "    </tr>\n",
       "    <tr>\n",
       "      <td>12</td>\n",
       "      <td>3.438592</td>\n",
       "      <td>3.276613</td>\n",
       "      <td>0.462369</td>\n",
       "      <td>07:22</td>\n",
       "    </tr>\n",
       "    <tr>\n",
       "      <td>13</td>\n",
       "      <td>3.483352</td>\n",
       "      <td>3.250792</td>\n",
       "      <td>0.466574</td>\n",
       "      <td>07:21</td>\n",
       "    </tr>\n",
       "    <tr>\n",
       "      <td>14</td>\n",
       "      <td>3.491288</td>\n",
       "      <td>3.235134</td>\n",
       "      <td>0.468937</td>\n",
       "      <td>07:21</td>\n",
       "    </tr>\n",
       "    <tr>\n",
       "      <td>15</td>\n",
       "      <td>3.499124</td>\n",
       "      <td>3.215765</td>\n",
       "      <td>0.471749</td>\n",
       "      <td>07:22</td>\n",
       "    </tr>\n",
       "    <tr>\n",
       "      <td>16</td>\n",
       "      <td>3.534991</td>\n",
       "      <td>3.204902</td>\n",
       "      <td>0.473209</td>\n",
       "      <td>07:21</td>\n",
       "    </tr>\n",
       "    <tr>\n",
       "      <td>17</td>\n",
       "      <td>3.392941</td>\n",
       "      <td>3.199316</td>\n",
       "      <td>0.474213</td>\n",
       "      <td>07:21</td>\n",
       "    </tr>\n",
       "    <tr>\n",
       "      <td>18</td>\n",
       "      <td>3.195224</td>\n",
       "      <td>3.195364</td>\n",
       "      <td>0.474729</td>\n",
       "      <td>07:21</td>\n",
       "    </tr>\n",
       "    <tr>\n",
       "      <td>19</td>\n",
       "      <td>3.273848</td>\n",
       "      <td>3.194855</td>\n",
       "      <td>0.474739</td>\n",
       "      <td>07:21</td>\n",
       "    </tr>\n",
       "  </tbody>\n",
       "</table>"
      ],
      "text/plain": [
       "<IPython.core.display.HTML object>"
      ]
     },
     "metadata": {},
     "output_type": "display_data"
    },
    {
     "name": "stdout",
     "output_type": "stream",
     "text": [
      "Better model found at epoch 0 with accuracy value: 0.3422750234603882.\n",
      "Better model found at epoch 1 with accuracy value: 0.3509877026081085.\n",
      "Better model found at epoch 2 with accuracy value: 0.36438122391700745.\n",
      "Better model found at epoch 3 with accuracy value: 0.37808656692504883.\n",
      "Better model found at epoch 4 with accuracy value: 0.39306631684303284.\n",
      "Better model found at epoch 5 with accuracy value: 0.40745022892951965.\n",
      "Better model found at epoch 6 with accuracy value: 0.418782114982605.\n",
      "Better model found at epoch 7 with accuracy value: 0.4285992383956909.\n",
      "Better model found at epoch 8 with accuracy value: 0.4371279180049896.\n",
      "Better model found at epoch 9 with accuracy value: 0.44429904222488403.\n",
      "Better model found at epoch 10 with accuracy value: 0.4521491229534149.\n",
      "Better model found at epoch 11 with accuracy value: 0.4572451114654541.\n",
      "Better model found at epoch 12 with accuracy value: 0.4623686969280243.\n",
      "Better model found at epoch 13 with accuracy value: 0.4665742814540863.\n",
      "Better model found at epoch 14 with accuracy value: 0.4689369797706604.\n",
      "Better model found at epoch 15 with accuracy value: 0.47174909710884094.\n",
      "Better model found at epoch 16 with accuracy value: 0.47320878505706787.\n",
      "Better model found at epoch 17 with accuracy value: 0.47421324253082275.\n",
      "Better model found at epoch 18 with accuracy value: 0.4747294485569.\n",
      "Better model found at epoch 19 with accuracy value: 0.47473880648612976.\n"
     ]
    }
   ],
   "source": [
    "learn.fit_one_cycle(20, 1e-3, callbacks=[callbacks.SaveModelCallback(learn, every='improvement', monitor='accuracy', name='model')])"
   ]
  },
  {
   "cell_type": "code",
   "execution_count": 91,
   "metadata": {
    "scrolled": true
   },
   "outputs": [
    {
     "data": {
      "text/plain": [
       "LanguageLearner(data=TextLMDataBunch;\n",
       "\n",
       "Train: LabelList (0 items)\n",
       "x: LMTextList\n",
       "\n",
       "y: LMLabelList\n",
       "\n",
       "Path: /home/gaurav/PycharmProjects/nlp-for-panjabi/language-model/ulmfit;\n",
       "\n",
       "Valid: LabelList (0 items)\n",
       "x: LMTextList\n",
       "\n",
       "y: LMLabelList\n",
       "\n",
       "Path: /home/gaurav/PycharmProjects/nlp-for-panjabi/language-model/ulmfit;\n",
       "\n",
       "Test: None, model=SequentialRNN(\n",
       "  (0): AWD_LSTM(\n",
       "    (encoder): Embedding(30000, 400, padding_idx=1)\n",
       "    (encoder_dp): EmbeddingDropout(\n",
       "      (emb): Embedding(30000, 400, padding_idx=1)\n",
       "    )\n",
       "    (rnns): ModuleList(\n",
       "      (0): WeightDropout(\n",
       "        (module): LSTM(400, 1152, batch_first=True)\n",
       "      )\n",
       "      (1): WeightDropout(\n",
       "        (module): LSTM(1152, 1152, batch_first=True)\n",
       "      )\n",
       "      (2): WeightDropout(\n",
       "        (module): LSTM(1152, 400, batch_first=True)\n",
       "      )\n",
       "    )\n",
       "    (input_dp): RNNDropout()\n",
       "    (hidden_dps): ModuleList(\n",
       "      (0): RNNDropout()\n",
       "      (1): RNNDropout()\n",
       "      (2): RNNDropout()\n",
       "    )\n",
       "  )\n",
       "  (1): LinearDecoder(\n",
       "    (decoder): Linear(in_features=400, out_features=30000, bias=True)\n",
       "    (output_dp): RNNDropout()\n",
       "  )\n",
       "), opt_func=functools.partial(<class 'torch.optim.adam.Adam'>, betas=(0.9, 0.99)), loss_func=FlattenedLoss of CrossEntropyLoss(), metrics=[<function accuracy at 0x7f702df49440>], true_wd=True, bn_wd=True, wd=0.01, train_bn=True, path=PosixPath('/home/gaurav/PycharmProjects/nlp-for-panjabi/language-model/ulmfit'), model_dir='models', callback_fns=[functools.partial(<class 'fastai.basic_train.Recorder'>, add_time=True, silent=False)], callbacks=[RNNTrainer\n",
       "learn: ...\n",
       "alpha: 2.0\n",
       "beta: 1.0], layer_groups=[Sequential(\n",
       "  (0): Embedding(30000, 400, padding_idx=1)\n",
       "  (1): Embedding(30000, 400, padding_idx=1)\n",
       "  (2): LSTM(400, 1152, batch_first=True)\n",
       "  (3): LSTM(1152, 1152, batch_first=True)\n",
       "  (4): LSTM(1152, 400, batch_first=True)\n",
       "  (5): RNNDropout()\n",
       "  (6): RNNDropout()\n",
       "  (7): RNNDropout()\n",
       "  (8): RNNDropout()\n",
       "  (9): Linear(in_features=400, out_features=30000, bias=True)\n",
       "  (10): RNNDropout()\n",
       ")], add_time=True, silent=False, cb_fns_registered=False)"
      ]
     },
     "execution_count": 91,
     "metadata": {},
     "output_type": "execute_result"
    }
   ],
   "source": [
    "learn.load('model')"
   ]
  },
  {
   "cell_type": "code",
   "execution_count": 92,
   "metadata": {},
   "outputs": [
    {
     "data": {
      "text/plain": [
       "'ਜੋ ਉਹਨਾਂ ਦੇ ਰੱਬਾਂ ਨੂੰ ਪ੍ਰਸਤੁਤ ਕਰਦੇ ▁ਸਨ , ▁ਉਹ ▁ਕਹਿ ▁ਸਕਦੇ ▁ਸਨ ▁ਕਿ ▁ਦੁਨੀਆ ▁ਵਿੱਚ ▁ਕੇਵਲ ▁ਵਰਗ ▁ਨੰਬਰ ▁ਹੀ ▁ਚੱਲਣ ਗੇ ▁ਅਤੇ ▁ਮਾਲੀ ਅੱਪ , ▁ਵਿਦ'"
      ]
     },
     "execution_count": 92,
     "metadata": {},
     "output_type": "execute_result"
    }
   ],
   "source": [
    "learn.predict(\"ਜੋ ਉਹਨਾਂ ਦੇ ਰੱਬਾਂ ਨੂੰ ਪ੍ਰਸਤੁਤ ਕਰਦੇ\", n_words=20)"
   ]
  },
  {
   "cell_type": "code",
   "execution_count": 94,
   "metadata": {},
   "outputs": [
    {
     "data": {
      "text/plain": [
       "24.406634473709282"
      ]
     },
     "execution_count": 94,
     "metadata": {},
     "output_type": "execute_result"
    }
   ],
   "source": [
    "np.exp(3.194855)"
   ]
  },
  {
   "cell_type": "code",
   "execution_count": 95,
   "metadata": {},
   "outputs": [],
   "source": [
    "defaults.device = torch.device('cpu')\n",
    "learn.model.eval()\n",
    "learn.export()"
   ]
  },
  {
   "cell_type": "code",
   "execution_count": 96,
   "metadata": {},
   "outputs": [
    {
     "data": {
      "text/plain": [
       "PosixPath('/home/gaurav/PycharmProjects/nlp-for-panjabi/language-model')"
      ]
     },
     "execution_count": 96,
     "metadata": {},
     "output_type": "execute_result"
    }
   ],
   "source": [
    "path"
   ]
  },
  {
   "cell_type": "code",
   "execution_count": 97,
   "metadata": {},
   "outputs": [],
   "source": [
    "defaults.device = torch.device('cpu')"
   ]
  },
  {
   "cell_type": "code",
   "execution_count": 98,
   "metadata": {},
   "outputs": [],
   "source": [
    "learn = load_learner(path / 'ulmfit')"
   ]
  },
  {
   "cell_type": "code",
   "execution_count": 99,
   "metadata": {},
   "outputs": [],
   "source": [
    "class SimTokenizer(BaseTokenizer):\n",
    "    def __init__(self, lang:str):\n",
    "        self.lang = lang\n",
    "        self.sp = spm.SentencePieceProcessor()\n",
    "        self.sp.Load(str(path/\"../tokenizer/panjabi_lm.model\"))\n",
    "        \n",
    "    def tokenizer(self, t:str) -> List[str]:\n",
    "        return self.sp.EncodeAsPieces(t)"
   ]
  },
  {
   "cell_type": "code",
   "execution_count": 100,
   "metadata": {},
   "outputs": [
    {
     "data": {
      "text/plain": [
       "30000"
      ]
     },
     "execution_count": 100,
     "metadata": {},
     "output_type": "execute_result"
    }
   ],
   "source": [
    "stoi = collections.defaultdict(lambda:0, {v:k for k,v in enumerate(itos)})\n",
    "len(itos)"
   ]
  },
  {
   "cell_type": "code",
   "execution_count": 101,
   "metadata": {},
   "outputs": [],
   "source": [
    "# cosine similarity - to check quality of our sentence encoder\n",
    "def cos_sim(v1,v2):\n",
    "    return F.cosine_similarity(Tensor(v1).unsqueeze(0),Tensor(v2).unsqueeze(0)).mean()"
   ]
  },
  {
   "cell_type": "code",
   "execution_count": 102,
   "metadata": {},
   "outputs": [],
   "source": [
    "tokzr = SimTokenizer('pa')"
   ]
  },
  {
   "cell_type": "code",
   "execution_count": 103,
   "metadata": {},
   "outputs": [],
   "source": [
    "m = learn.model"
   ]
  },
  {
   "cell_type": "code",
   "execution_count": 104,
   "metadata": {},
   "outputs": [],
   "source": [
    "def get_sentence_encoding(sen: str):\n",
    "    tok = tokzr.tokenizer(sen)\n",
    "    itok = [stoi[o] for o in tok]\n",
    "    kk0=m[0](Tensor([itok]).to(torch.int64))\n",
    "    return kk0[0][-1][0][-1]"
   ]
  },
  {
   "cell_type": "code",
   "execution_count": 105,
   "metadata": {
    "scrolled": true
   },
   "outputs": [
    {
     "data": {
      "text/plain": [
       "SequentialRNN(\n",
       "  (0): AWD_LSTM(\n",
       "    (encoder): Embedding(30000, 400, padding_idx=1)\n",
       "    (encoder_dp): EmbeddingDropout(\n",
       "      (emb): Embedding(30000, 400, padding_idx=1)\n",
       "    )\n",
       "    (rnns): ModuleList(\n",
       "      (0): WeightDropout(\n",
       "        (module): LSTM(400, 1152, batch_first=True)\n",
       "      )\n",
       "      (1): WeightDropout(\n",
       "        (module): LSTM(1152, 1152, batch_first=True)\n",
       "      )\n",
       "      (2): WeightDropout(\n",
       "        (module): LSTM(1152, 400, batch_first=True)\n",
       "      )\n",
       "    )\n",
       "    (input_dp): RNNDropout()\n",
       "    (hidden_dps): ModuleList(\n",
       "      (0): RNNDropout()\n",
       "      (1): RNNDropout()\n",
       "      (2): RNNDropout()\n",
       "    )\n",
       "  )\n",
       "  (1): LinearDecoder(\n",
       "    (decoder): Linear(in_features=400, out_features=30000, bias=True)\n",
       "    (output_dp): RNNDropout()\n",
       "  )\n",
       ")"
      ]
     },
     "execution_count": 105,
     "metadata": {},
     "output_type": "execute_result"
    }
   ],
   "source": [
    "learn.model"
   ]
  },
  {
   "cell_type": "code",
   "execution_count": 106,
   "metadata": {},
   "outputs": [],
   "source": [
    "# learn.model.reset()"
   ]
  },
  {
   "cell_type": "code",
   "execution_count": 108,
   "metadata": {
    "scrolled": true
   },
   "outputs": [
    {
     "data": {
      "text/plain": [
       "tensor(0.9702, grad_fn=<MeanBackward0>)"
      ]
     },
     "execution_count": 108,
     "metadata": {},
     "output_type": "execute_result"
    }
   ],
   "source": [
    "cos_sim(get_sentence_encoding('ਮੈਂ ਇੱਕ ਇੰਜੀਨੀਅਰ ਹਾਂ'), get_sentence_encoding('ਮੈਂ ਇੱਕ ਵਿਗਿਆਨੀ ਹਾਂ'))"
   ]
  },
  {
   "cell_type": "code",
   "execution_count": 109,
   "metadata": {},
   "outputs": [],
   "source": [
    "encoder = get_model(learn.model)[0]"
   ]
  },
  {
   "cell_type": "code",
   "execution_count": 110,
   "metadata": {},
   "outputs": [
    {
     "data": {
      "text/plain": [
       "torch.Size([30000, 400])"
      ]
     },
     "execution_count": 110,
     "metadata": {},
     "output_type": "execute_result"
    }
   ],
   "source": [
    "encoder.state_dict()['encoder.weight'].shape"
   ]
  },
  {
   "cell_type": "code",
   "execution_count": 111,
   "metadata": {},
   "outputs": [],
   "source": [
    "embeddings = encoder.state_dict()['encoder.weight']"
   ]
  },
  {
   "cell_type": "code",
   "execution_count": 112,
   "metadata": {},
   "outputs": [],
   "source": [
    "embeddings = np.array(embeddings)"
   ]
  },
  {
   "cell_type": "code",
   "execution_count": 113,
   "metadata": {},
   "outputs": [
    {
     "data": {
      "text/plain": [
       "(400,)"
      ]
     },
     "execution_count": 113,
     "metadata": {},
     "output_type": "execute_result"
    }
   ],
   "source": [
    "embeddings[0].shape"
   ]
  },
  {
   "cell_type": "code",
   "execution_count": 114,
   "metadata": {},
   "outputs": [],
   "source": [
    "df = pd.DataFrame(embeddings)"
   ]
  },
  {
   "cell_type": "code",
   "execution_count": 115,
   "metadata": {},
   "outputs": [
    {
     "data": {
      "text/plain": [
       "(30000, 400)"
      ]
     },
     "execution_count": 115,
     "metadata": {},
     "output_type": "execute_result"
    }
   ],
   "source": [
    "df.shape"
   ]
  },
  {
   "cell_type": "code",
   "execution_count": 116,
   "metadata": {},
   "outputs": [],
   "source": [
    "df.to_csv('embeddings.tsv', sep='\\t', index=False, header=False)"
   ]
  },
  {
   "cell_type": "code",
   "execution_count": 117,
   "metadata": {},
   "outputs": [
    {
     "data": {
      "text/html": [
       "<div>\n",
       "<style scoped>\n",
       "    .dataframe tbody tr th:only-of-type {\n",
       "        vertical-align: middle;\n",
       "    }\n",
       "\n",
       "    .dataframe tbody tr th {\n",
       "        vertical-align: top;\n",
       "    }\n",
       "\n",
       "    .dataframe thead th {\n",
       "        text-align: right;\n",
       "    }\n",
       "</style>\n",
       "<table border=\"1\" class=\"dataframe\">\n",
       "  <thead>\n",
       "    <tr style=\"text-align: right;\">\n",
       "      <th></th>\n",
       "      <th>0</th>\n",
       "      <th>1</th>\n",
       "      <th>2</th>\n",
       "      <th>3</th>\n",
       "      <th>4</th>\n",
       "      <th>5</th>\n",
       "      <th>6</th>\n",
       "      <th>7</th>\n",
       "      <th>8</th>\n",
       "      <th>9</th>\n",
       "      <th>...</th>\n",
       "      <th>390</th>\n",
       "      <th>391</th>\n",
       "      <th>392</th>\n",
       "      <th>393</th>\n",
       "      <th>394</th>\n",
       "      <th>395</th>\n",
       "      <th>396</th>\n",
       "      <th>397</th>\n",
       "      <th>398</th>\n",
       "      <th>399</th>\n",
       "    </tr>\n",
       "  </thead>\n",
       "  <tbody>\n",
       "    <tr>\n",
       "      <td>0</td>\n",
       "      <td>0.140282</td>\n",
       "      <td>-0.225343</td>\n",
       "      <td>0.091468</td>\n",
       "      <td>0.011365</td>\n",
       "      <td>-0.310435</td>\n",
       "      <td>0.077559</td>\n",
       "      <td>-0.281492</td>\n",
       "      <td>-0.145012</td>\n",
       "      <td>0.110380</td>\n",
       "      <td>0.042910</td>\n",
       "      <td>...</td>\n",
       "      <td>-0.239947</td>\n",
       "      <td>-0.308760</td>\n",
       "      <td>-0.238303</td>\n",
       "      <td>-0.485958</td>\n",
       "      <td>-0.057103</td>\n",
       "      <td>0.143763</td>\n",
       "      <td>0.110702</td>\n",
       "      <td>0.363513</td>\n",
       "      <td>0.079273</td>\n",
       "      <td>0.176225</td>\n",
       "    </tr>\n",
       "    <tr>\n",
       "      <td>1</td>\n",
       "      <td>0.183305</td>\n",
       "      <td>0.114005</td>\n",
       "      <td>0.069757</td>\n",
       "      <td>-0.008010</td>\n",
       "      <td>0.134767</td>\n",
       "      <td>-0.434507</td>\n",
       "      <td>-0.048521</td>\n",
       "      <td>0.736425</td>\n",
       "      <td>0.558313</td>\n",
       "      <td>-0.448053</td>\n",
       "      <td>...</td>\n",
       "      <td>0.144730</td>\n",
       "      <td>-0.582009</td>\n",
       "      <td>0.396604</td>\n",
       "      <td>-0.267547</td>\n",
       "      <td>0.326207</td>\n",
       "      <td>-0.070736</td>\n",
       "      <td>0.020819</td>\n",
       "      <td>0.018771</td>\n",
       "      <td>-0.123859</td>\n",
       "      <td>-0.179403</td>\n",
       "    </tr>\n",
       "    <tr>\n",
       "      <td>2</td>\n",
       "      <td>0.191932</td>\n",
       "      <td>0.123115</td>\n",
       "      <td>0.046383</td>\n",
       "      <td>-0.031767</td>\n",
       "      <td>0.117007</td>\n",
       "      <td>-0.451134</td>\n",
       "      <td>-0.073051</td>\n",
       "      <td>0.725868</td>\n",
       "      <td>0.603333</td>\n",
       "      <td>-0.455077</td>\n",
       "      <td>...</td>\n",
       "      <td>0.134402</td>\n",
       "      <td>-0.528279</td>\n",
       "      <td>0.464334</td>\n",
       "      <td>-0.258254</td>\n",
       "      <td>0.381179</td>\n",
       "      <td>-0.088745</td>\n",
       "      <td>0.101923</td>\n",
       "      <td>0.032493</td>\n",
       "      <td>-0.056860</td>\n",
       "      <td>-0.093209</td>\n",
       "    </tr>\n",
       "    <tr>\n",
       "      <td>3</td>\n",
       "      <td>0.088915</td>\n",
       "      <td>-0.059428</td>\n",
       "      <td>-0.051685</td>\n",
       "      <td>-0.526063</td>\n",
       "      <td>-0.297504</td>\n",
       "      <td>-0.408362</td>\n",
       "      <td>0.076437</td>\n",
       "      <td>-0.474722</td>\n",
       "      <td>0.818335</td>\n",
       "      <td>0.874931</td>\n",
       "      <td>...</td>\n",
       "      <td>-0.554428</td>\n",
       "      <td>0.576551</td>\n",
       "      <td>-0.420845</td>\n",
       "      <td>-0.003464</td>\n",
       "      <td>-0.787426</td>\n",
       "      <td>0.458704</td>\n",
       "      <td>-0.407183</td>\n",
       "      <td>0.035293</td>\n",
       "      <td>-0.087827</td>\n",
       "      <td>0.178226</td>\n",
       "    </tr>\n",
       "    <tr>\n",
       "      <td>4</td>\n",
       "      <td>0.183615</td>\n",
       "      <td>-0.011866</td>\n",
       "      <td>-0.038603</td>\n",
       "      <td>0.277777</td>\n",
       "      <td>-0.279680</td>\n",
       "      <td>-0.034423</td>\n",
       "      <td>0.075204</td>\n",
       "      <td>-0.205440</td>\n",
       "      <td>-0.229140</td>\n",
       "      <td>0.084468</td>\n",
       "      <td>...</td>\n",
       "      <td>0.388677</td>\n",
       "      <td>0.429169</td>\n",
       "      <td>0.103357</td>\n",
       "      <td>-0.067368</td>\n",
       "      <td>-0.212850</td>\n",
       "      <td>0.047030</td>\n",
       "      <td>-0.035661</td>\n",
       "      <td>0.089389</td>\n",
       "      <td>0.304978</td>\n",
       "      <td>0.121831</td>\n",
       "    </tr>\n",
       "  </tbody>\n",
       "</table>\n",
       "<p>5 rows × 400 columns</p>\n",
       "</div>"
      ],
      "text/plain": [
       "        0         1         2         3         4         5         6    \\\n",
       "0  0.140282 -0.225343  0.091468  0.011365 -0.310435  0.077559 -0.281492   \n",
       "1  0.183305  0.114005  0.069757 -0.008010  0.134767 -0.434507 -0.048521   \n",
       "2  0.191932  0.123115  0.046383 -0.031767  0.117007 -0.451134 -0.073051   \n",
       "3  0.088915 -0.059428 -0.051685 -0.526063 -0.297504 -0.408362  0.076437   \n",
       "4  0.183615 -0.011866 -0.038603  0.277777 -0.279680 -0.034423  0.075204   \n",
       "\n",
       "        7         8         9    ...       390       391       392       393  \\\n",
       "0 -0.145012  0.110380  0.042910  ... -0.239947 -0.308760 -0.238303 -0.485958   \n",
       "1  0.736425  0.558313 -0.448053  ...  0.144730 -0.582009  0.396604 -0.267547   \n",
       "2  0.725868  0.603333 -0.455077  ...  0.134402 -0.528279  0.464334 -0.258254   \n",
       "3 -0.474722  0.818335  0.874931  ... -0.554428  0.576551 -0.420845 -0.003464   \n",
       "4 -0.205440 -0.229140  0.084468  ...  0.388677  0.429169  0.103357 -0.067368   \n",
       "\n",
       "        394       395       396       397       398       399  \n",
       "0 -0.057103  0.143763  0.110702  0.363513  0.079273  0.176225  \n",
       "1  0.326207 -0.070736  0.020819  0.018771 -0.123859 -0.179403  \n",
       "2  0.381179 -0.088745  0.101923  0.032493 -0.056860 -0.093209  \n",
       "3 -0.787426  0.458704 -0.407183  0.035293 -0.087827  0.178226  \n",
       "4 -0.212850  0.047030 -0.035661  0.089389  0.304978  0.121831  \n",
       "\n",
       "[5 rows x 400 columns]"
      ]
     },
     "execution_count": 117,
     "metadata": {},
     "output_type": "execute_result"
    }
   ],
   "source": [
    "df.head()"
   ]
  },
  {
   "cell_type": "code",
   "execution_count": 118,
   "metadata": {},
   "outputs": [
    {
     "data": {
      "text/plain": [
       "(30000, 400)"
      ]
     },
     "execution_count": 118,
     "metadata": {},
     "output_type": "execute_result"
    }
   ],
   "source": [
    "df.shape"
   ]
  },
  {
   "cell_type": "code",
   "execution_count": 119,
   "metadata": {},
   "outputs": [],
   "source": [
    "df2 = pd.DataFrame(itos)"
   ]
  },
  {
   "cell_type": "code",
   "execution_count": 120,
   "metadata": {},
   "outputs": [
    {
     "data": {
      "text/html": [
       "<div>\n",
       "<style scoped>\n",
       "    .dataframe tbody tr th:only-of-type {\n",
       "        vertical-align: middle;\n",
       "    }\n",
       "\n",
       "    .dataframe tbody tr th {\n",
       "        vertical-align: top;\n",
       "    }\n",
       "\n",
       "    .dataframe thead th {\n",
       "        text-align: right;\n",
       "    }\n",
       "</style>\n",
       "<table border=\"1\" class=\"dataframe\">\n",
       "  <thead>\n",
       "    <tr style=\"text-align: right;\">\n",
       "      <th></th>\n",
       "      <th>0</th>\n",
       "    </tr>\n",
       "  </thead>\n",
       "  <tbody>\n",
       "    <tr>\n",
       "      <td>0</td>\n",
       "      <td>&lt;unk&gt;</td>\n",
       "    </tr>\n",
       "    <tr>\n",
       "      <td>1</td>\n",
       "      <td>&lt;s&gt;</td>\n",
       "    </tr>\n",
       "    <tr>\n",
       "      <td>2</td>\n",
       "      <td>&lt;/s&gt;</td>\n",
       "    </tr>\n",
       "    <tr>\n",
       "      <td>3</td>\n",
       "      <td>।</td>\n",
       "    </tr>\n",
       "    <tr>\n",
       "      <td>4</td>\n",
       "      <td>,</td>\n",
       "    </tr>\n",
       "  </tbody>\n",
       "</table>\n",
       "</div>"
      ],
      "text/plain": [
       "       0\n",
       "0  <unk>\n",
       "1    <s>\n",
       "2   </s>\n",
       "3      ।\n",
       "4      ,"
      ]
     },
     "execution_count": 120,
     "metadata": {},
     "output_type": "execute_result"
    }
   ],
   "source": [
    "df2.head()"
   ]
  },
  {
   "cell_type": "code",
   "execution_count": 121,
   "metadata": {},
   "outputs": [
    {
     "data": {
      "text/plain": [
       "(30000, 1)"
      ]
     },
     "execution_count": 121,
     "metadata": {},
     "output_type": "execute_result"
    }
   ],
   "source": [
    "df2.shape"
   ]
  },
  {
   "cell_type": "code",
   "execution_count": 122,
   "metadata": {},
   "outputs": [],
   "source": [
    "df2.to_csv('embeddings_metadata.tsv', sep='\\t', index=False, header=False)"
   ]
  },
  {
   "cell_type": "code",
   "execution_count": 124,
   "metadata": {
    "scrolled": true
   },
   "outputs": [
    {
     "data": {
      "text/plain": [
       "tensor([ 1.8331e-01,  1.1401e-01,  6.9757e-02, -8.0097e-03,  1.3477e-01,\n",
       "        -4.3451e-01, -4.8521e-02,  7.3642e-01,  5.5831e-01, -4.4805e-01,\n",
       "         4.1779e-01, -4.0786e-01, -4.9131e-02, -2.0829e-01,  5.0597e-01,\n",
       "        -1.9850e-02,  1.2749e-01, -2.3876e-01, -4.2928e-01, -8.5025e-02,\n",
       "         2.0596e-01,  1.9414e-01,  6.4829e-01,  4.7474e-01,  3.5983e-01,\n",
       "        -2.2773e-01, -7.1285e-02,  2.4566e-01, -1.1817e-01, -1.1535e-01,\n",
       "        -5.4512e-01, -5.3683e-01,  6.9024e-01,  2.4939e-01, -3.1712e-01,\n",
       "        -8.7909e-02,  2.4285e-01,  3.7806e-01,  2.5010e-01,  2.0399e-01,\n",
       "        -1.3696e+00, -1.5009e-02, -7.3518e-02,  1.4213e-01,  8.9581e-02,\n",
       "        -1.7816e-01,  1.6978e-01,  1.1304e-01,  1.0411e-01,  1.9364e-03,\n",
       "        -1.4154e-01, -1.5627e-01,  1.5109e-01, -1.9176e-01, -4.9787e-01,\n",
       "         1.4117e-01, -3.2164e-01, -4.1506e-01,  7.6289e-02,  5.6813e-01,\n",
       "        -1.8736e-01, -5.1530e-01, -4.7499e-01, -2.3766e-01, -4.4076e-01,\n",
       "         3.6593e-01, -1.3064e-01, -1.7359e-01, -1.8074e-01,  1.0636e-01,\n",
       "        -4.5134e-02, -4.2044e-02,  5.8683e-02, -1.2263e-01,  4.0648e-01,\n",
       "        -3.1257e-01, -9.3715e-02,  8.5495e-02,  6.9053e-02,  4.2737e-02,\n",
       "         2.3812e-01, -1.9528e-01,  4.3733e-01, -3.8773e-01, -2.4635e-01,\n",
       "        -4.3421e-01,  2.5139e-01, -2.1898e-01,  1.1129e-01,  2.2246e-01,\n",
       "         5.0710e-02,  4.8705e-01,  2.2042e-01,  2.1179e-01,  1.2067e-01,\n",
       "         2.4184e-01, -2.9315e-01, -6.9800e-02, -3.0612e-02,  7.8140e-01,\n",
       "         2.3749e-01, -1.8253e-01, -4.3349e-02,  2.8619e-01,  8.7157e-02,\n",
       "         1.3300e-01, -1.3010e-01, -8.1896e-01,  4.6036e-01,  4.5706e-01,\n",
       "        -1.5730e-02,  1.8316e-01, -6.2328e-01,  2.6622e-01,  3.8977e-01,\n",
       "        -3.8578e-01, -2.2622e-01, -4.4747e-01, -2.3420e-03, -2.5799e-01,\n",
       "         6.3685e-02, -2.1175e-01,  1.1983e-01, -3.7231e-01,  5.3163e-01,\n",
       "        -7.6613e-02,  3.3553e-01, -1.5973e-01,  5.6889e-01, -2.2347e-02,\n",
       "         1.7221e-01, -2.1433e-01,  1.8156e-01,  5.6647e-01, -5.0762e-02,\n",
       "        -3.1182e-01,  2.7395e-01, -9.6815e-03, -2.9771e-01,  3.1297e-02,\n",
       "         4.8139e-01,  1.1355e-01, -7.8267e-02,  3.4489e-02, -3.2381e-02,\n",
       "        -3.7125e-01,  3.0893e-02, -2.2058e-01,  3.5452e-01,  2.7728e-01,\n",
       "         5.8680e-02, -3.2373e-01, -2.9858e-01, -4.4499e-02, -4.1789e-01,\n",
       "         3.5031e-01,  4.8554e-01, -1.6349e-01,  3.2159e-02, -5.4873e-01,\n",
       "         5.7013e-02, -5.1716e-02, -6.0485e-01, -1.4176e-01, -5.2836e-02,\n",
       "        -6.1997e-01,  1.2763e-01,  5.6702e-01,  2.3726e-01,  1.6388e-02,\n",
       "        -3.0733e-01,  1.6776e-01, -3.3710e-01,  7.1226e-01,  7.6257e-02,\n",
       "         3.3309e-01, -8.4740e-02, -7.6177e-01, -5.3314e-02,  5.7280e-02,\n",
       "         5.6218e-01,  5.4533e-01, -4.2083e-01,  2.4124e-01, -1.9380e-01,\n",
       "         1.8345e-01,  1.6235e-03,  2.7484e-01,  2.9602e-01,  3.9458e-01,\n",
       "        -2.4841e-01, -1.6766e-02,  3.2364e-02,  1.2989e-01,  3.5649e-02,\n",
       "        -6.6255e-02, -3.4713e-01,  1.1899e-01,  7.5036e-01,  2.0285e-01,\n",
       "        -3.3433e-01,  6.2405e-02,  9.7527e-02, -7.7921e-01, -6.6103e-01,\n",
       "         2.7860e-01,  8.5605e-02, -1.8149e-01, -1.5508e-01,  1.7954e-01,\n",
       "        -5.0996e-01,  1.2948e-01,  6.1623e-02, -5.4517e-01, -2.4850e-03,\n",
       "        -1.2473e-03, -6.0078e-01, -3.2675e-01, -9.5505e-02, -4.2743e-03,\n",
       "        -1.3642e-01, -4.5403e-01, -5.8781e-01,  4.4604e-03,  3.6595e-01,\n",
       "         1.6591e-01, -1.0127e+00,  4.5678e-02,  5.9615e-01, -1.0867e+00,\n",
       "         9.7505e-02, -2.2745e-01,  9.9092e-02, -3.3548e-01,  6.7839e-01,\n",
       "        -7.2353e-02,  4.9965e-01, -5.5279e-01,  1.8275e-01, -1.7713e-01,\n",
       "        -1.7657e-01,  2.3795e-01, -6.9540e-02, -1.5425e-01,  2.6421e-01,\n",
       "         2.7586e-02, -3.0083e-01, -1.1663e-01,  2.4367e-01, -1.8584e-01,\n",
       "         2.3478e-01, -2.3845e-01,  3.1230e-02,  2.3388e-01,  4.4706e-01,\n",
       "         7.4485e-02,  1.8191e-03,  3.1218e-01,  2.5291e-01,  4.8401e-02,\n",
       "        -7.7900e-02,  2.9764e-01, -1.1873e-02, -3.4890e-01, -1.3131e-01,\n",
       "         2.2364e-01, -2.5237e-01,  5.3207e-02,  4.3061e-01,  3.0053e-01,\n",
       "         1.5724e-02, -5.9788e-02, -4.1118e-01, -6.2118e-03, -4.0279e-01,\n",
       "        -4.1167e-01,  1.0832e-01, -2.2827e-01, -2.1130e-01,  4.8105e-02,\n",
       "        -6.5688e-02, -5.9673e-01, -2.7563e-02,  8.1579e-03, -1.5915e-02,\n",
       "        -8.9180e-02,  2.3079e-01,  8.2669e-01, -3.0547e-01,  4.3270e-02,\n",
       "        -2.5010e-01, -2.9480e-01,  3.2133e-01,  1.9131e-02,  9.9842e-03,\n",
       "         6.5477e-01, -6.4744e-03, -2.1415e-01,  2.2551e-02,  1.3511e-01,\n",
       "        -1.9938e-01, -8.5498e-02, -5.4978e-02,  5.2759e-01, -4.3476e-01,\n",
       "         1.0347e-01, -1.2243e+00, -8.0923e-01,  4.1420e-01, -3.2072e-01,\n",
       "         2.2109e-01, -3.6602e-01, -2.0819e-01,  6.6505e-02,  4.6553e-01,\n",
       "         1.5120e-01, -2.2580e-01,  1.5331e-01,  4.7617e-02, -4.6232e-02,\n",
       "         8.0887e-02, -4.8511e-02,  2.3371e-01, -9.5070e-02,  5.2616e-02,\n",
       "        -1.0936e-01, -1.3024e-01,  2.2948e-01, -3.0410e-01, -1.4388e-01,\n",
       "        -3.7256e-02,  6.6933e-02, -2.0446e-01,  8.2007e-03,  1.2811e-01,\n",
       "        -3.4587e-01,  1.8598e-01, -4.1273e-01,  2.6047e-01,  1.1558e-01,\n",
       "        -2.2014e-01,  4.0120e-01, -1.1602e-02, -1.7630e-01, -1.1572e-01,\n",
       "        -2.0725e-01,  5.3170e-02, -3.7966e-04, -4.3154e-01,  6.1951e-01,\n",
       "         6.7394e-01,  5.6772e-02, -4.2519e-01,  4.2005e-01, -3.9444e-01,\n",
       "        -3.3293e-01, -1.7688e-01, -3.4887e-01, -2.2828e-02, -2.0249e-01,\n",
       "        -2.0205e-01, -2.6988e-01, -3.0969e-01,  4.2354e-02,  1.0249e+00,\n",
       "         5.2848e-01, -7.2109e-01, -1.9492e+00, -2.4956e-01,  3.4890e-02,\n",
       "        -2.9290e-01,  6.8942e-02,  1.1739e+00, -2.9961e-01, -3.1499e-01,\n",
       "         5.3962e-01, -3.2471e-01, -2.1608e-01, -4.6430e-02,  1.5821e-01,\n",
       "         4.9218e-01, -3.3219e-01,  7.2418e-02,  4.8582e-01,  1.2397e-01,\n",
       "         1.6151e-01, -2.9280e-01, -8.2944e-02, -2.0484e-01, -7.3926e-01,\n",
       "         1.4473e-01, -5.8201e-01,  3.9660e-01, -2.6755e-01,  3.2621e-01,\n",
       "        -7.0736e-02,  2.0819e-02,  1.8771e-02, -1.2386e-01, -1.7940e-01])"
      ]
     },
     "execution_count": 124,
     "metadata": {},
     "output_type": "execute_result"
    }
   ],
   "source": [
    "encoder.state_dict()['encoder.weight'][1]"
   ]
  },
  {
   "cell_type": "code",
   "execution_count": null,
   "metadata": {},
   "outputs": [],
   "source": []
  }
 ],
 "metadata": {
  "kernelspec": {
   "display_name": "Python 3",
   "language": "python",
   "name": "python3"
  },
  "language_info": {
   "codemirror_mode": {
    "name": "ipython",
    "version": 3
   },
   "file_extension": ".py",
   "mimetype": "text/x-python",
   "name": "python",
   "nbconvert_exporter": "python",
   "pygments_lexer": "ipython3",
   "version": "3.7.3"
  }
 },
 "nbformat": 4,
 "nbformat_minor": 2
}
